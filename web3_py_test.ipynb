{
 "cells": [
  {
   "cell_type": "markdown",
   "metadata": {},
   "source": [
    "# Let's connect to test net"
   ]
  },
  {
   "cell_type": "code",
   "execution_count": 33,
   "metadata": {},
   "outputs": [],
   "source": [
    "from web3 import HTTPProvider, Web3\n",
    "import web3\n",
    "import json"
   ]
  },
  {
   "cell_type": "code",
   "execution_count": 34,
   "metadata": {},
   "outputs": [],
   "source": [
    "# connect to ganache test net or any other net\n",
    "web3 = Web3(HTTPProvider('http://127.0.0.1:7545'))"
   ]
  },
  {
   "cell_type": "code",
   "execution_count": 35,
   "metadata": {},
   "outputs": [
    {
     "data": {
      "text/plain": [
       "['0xAdDFD77C9514c57090f04C5961DB370F95AeA86d',\n",
       " '0x8be0bD719Ab21990d1AA2b55A0a106571C053c1A',\n",
       " '0x880694817dFb714EE40D13E88967c6EFd62a9FD6',\n",
       " '0x708DA775cF775ea3DFd2CFa2053dA504e84Bfec2',\n",
       " '0x599Efc6159Efae7FC94ddEdD151c95223713fA89',\n",
       " '0x21DfC08f088c56e4b5613aCebe59844a8f32dbae',\n",
       " '0x6AaE7dfE3a987F0696Eb7204a0F62544F08400bd',\n",
       " '0x062Cc63Dc7C064598C36877b3D6E55107cDC2D4e',\n",
       " '0x9ECB5F65c7BAF5f6C0A60cCFcEAc995E583768a5',\n",
       " '0x1ccbB6cf299d0808684EF5171144a96c71a21B5a']"
      ]
     },
     "execution_count": 35,
     "metadata": {},
     "output_type": "execute_result"
    }
   ],
   "source": [
    "# list of all users\n",
    "web3.eth.accounts"
   ]
  },
  {
   "cell_type": "code",
   "execution_count": 36,
   "metadata": {},
   "outputs": [
    {
     "name": "stdout",
     "output_type": "stream",
     "text": [
      "True\n"
     ]
    }
   ],
   "source": [
    "# check is it connected\n",
    "print(web3.isConnected())"
   ]
  },
  {
   "cell_type": "code",
   "execution_count": 37,
   "metadata": {},
   "outputs": [
    {
     "data": {
      "text/plain": [
       "5"
      ]
     },
     "execution_count": 37,
     "metadata": {},
     "output_type": "execute_result"
    }
   ],
   "source": [
    "# number of blocks in this net\n",
    "web3.eth.blockNumber"
   ]
  },
  {
   "cell_type": "markdown",
   "metadata": {},
   "source": [
    "# Let's make a transaction between users"
   ]
  },
  {
   "cell_type": "code",
   "execution_count": 44,
   "metadata": {},
   "outputs": [],
   "source": [
    "# let's make a transaction from user 0 to user 1\n",
    "account_0 = web3.eth.accounts[0]\n",
    "account_1 = web3.eth.accounts[1]"
   ]
  },
  {
   "cell_type": "markdown",
   "metadata": {},
   "source": [
    "### Private key in our case should be obtained from ganache"
   ]
  },
  {
   "cell_type": "code",
   "execution_count": 39,
   "metadata": {},
   "outputs": [],
   "source": [
    "# this is private key of user 0 which could be found in ganache\n",
    "private_key = '5241a9aa8625dd931335e79485941adac1670dda63facb139ece6ce5e6ca60c5'"
   ]
  },
  {
   "cell_type": "code",
   "execution_count": 40,
   "metadata": {},
   "outputs": [
    {
     "data": {
      "text/plain": [
       "Decimal('99.98782978')"
      ]
     },
     "execution_count": 40,
     "metadata": {},
     "output_type": "execute_result"
    }
   ],
   "source": [
    "# this is a balance of user 0\n",
    "web3.fromWei(web3.eth.getBalance(account_0), 'ether')"
   ]
  },
  {
   "cell_type": "code",
   "execution_count": 42,
   "metadata": {},
   "outputs": [
    {
     "data": {
      "text/plain": [
       "5"
      ]
     },
     "execution_count": 42,
     "metadata": {},
     "output_type": "execute_result"
    }
   ],
   "source": [
    "# counter of transaction of user 0\n",
    "# needed for avoiding double spending\n",
    "nonce = web3.eth.getTransactionCount(account_0)\n",
    "nonce"
   ]
  },
  {
   "cell_type": "code",
   "execution_count": 45,
   "metadata": {},
   "outputs": [],
   "source": [
    "# create dictionary corresponding to our transaction\n",
    "tx = {\n",
    "    'nonce': nonce,\n",
    "    'to': account_1,\n",
    "    'value': web3.toWei(1, 'ether'),\n",
    "    'gas': 2000000,\n",
    "    'gasPrice': web3.toWei(50, 'gwei'),\n",
    "}"
   ]
  },
  {
   "cell_type": "code",
   "execution_count": 46,
   "metadata": {},
   "outputs": [
    {
     "name": "stdout",
     "output_type": "stream",
     "text": [
      "0xb525c9a0adb09a1467b0f0c26ce95d65db6e284b33b76a12331c5126a451d44b\n"
     ]
    }
   ],
   "source": [
    "# sign transaction with private key and then send this transaction to blockhain\n",
    "signed_tx = web3.eth.account.signTransaction(tx, private_key)\n",
    "tx_hash = web3.eth.sendRawTransaction(signed_tx.rawTransaction)\n",
    "print(web3.toHex(tx_hash))"
   ]
  },
  {
   "cell_type": "markdown",
   "metadata": {},
   "source": [
    "# Let's deploy smart contract"
   ]
  },
  {
   "cell_type": "code",
   "execution_count": 47,
   "metadata": {},
   "outputs": [],
   "source": [
    "# set the default account which will deploy contracts\n",
    "web3.eth.defaultAccount = web3.eth.accounts[0]"
   ]
  },
  {
   "cell_type": "markdown",
   "metadata": {},
   "source": [
    "### For deploying you have to know ABI - application binary interface. You can find it in Compilation Details if you use remix for online solidity code compilation"
   ]
  },
  {
   "cell_type": "code",
   "execution_count": 48,
   "metadata": {},
   "outputs": [],
   "source": [
    "abi = json.loads('[{\"constant\":false,\"inputs\":[{\"name\":\"_greeting\",\"type\":\"string\"}],\"name\":\"setGreeting\",\"outputs\":[],\"payable\":false,\"stateMutability\":\"nonpayable\",\"type\":\"function\"},{\"constant\":true,\"inputs\":[],\"name\":\"greet\",\"outputs\":[{\"name\":\"\",\"type\":\"string\"}],\"payable\":false,\"stateMutability\":\"view\",\"type\":\"function\"},{\"constant\":true,\"inputs\":[],\"name\":\"greeting\",\"outputs\":[{\"name\":\"\",\"type\":\"string\"}],\"payable\":false,\"stateMutability\":\"view\",\"type\":\"function\"},{\"inputs\":[],\"payable\":false,\"stateMutability\":\"nonpayable\",\"type\":\"constructor\"}]')"
   ]
  },
  {
   "cell_type": "markdown",
   "metadata": {},
   "source": [
    "### You also need bytecode which could be found in the same place"
   ]
  },
  {
   "cell_type": "code",
   "execution_count": 49,
   "metadata": {},
   "outputs": [],
   "source": [
    "bytecode = \"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\""
   ]
  },
  {
   "cell_type": "code",
   "execution_count": 50,
   "metadata": {},
   "outputs": [],
   "source": [
    "# create instance of contract\n",
    "Greeter = web3.eth.contract(abi=abi, bytecode=bytecode)"
   ]
  },
  {
   "cell_type": "code",
   "execution_count": 51,
   "metadata": {},
   "outputs": [],
   "source": [
    "# deploy it in your net\n",
    "tx_hash = Greeter.constructor().transact()\n",
    "# wait for deployment completion\n",
    "tx_receipt = web3.eth.waitForTransactionReceipt(tx_hash)"
   ]
  },
  {
   "cell_type": "code",
   "execution_count": 52,
   "metadata": {},
   "outputs": [
    {
     "name": "stdout",
     "output_type": "stream",
     "text": [
      "0x3295010e6F1A2fdBCF53bcD09B9BF1c94A925D58\n"
     ]
    }
   ],
   "source": [
    "# have a look at returned contract address\n",
    "print(tx_receipt.contractAddress)"
   ]
  },
  {
   "cell_type": "code",
   "execution_count": 53,
   "metadata": {},
   "outputs": [],
   "source": [
    "# use this address to connect to contract\n",
    "contract = web3.eth.contract(\n",
    "    address=tx_receipt.contractAddress,\n",
    "    abi=abi,\n",
    ")"
   ]
  },
  {
   "cell_type": "code",
   "execution_count": 59,
   "metadata": {},
   "outputs": [
    {
     "name": "stdout",
     "output_type": "stream",
     "text": [
      "Default contract greeting: HELLOOOO!!!!\n"
     ]
    }
   ],
   "source": [
    "# and call greet() function in this contract\n",
    "print('Default contract greeting: {}'.format(\n",
    "    contract.functions.greet().call()\n",
    "))"
   ]
  },
  {
   "cell_type": "code",
   "execution_count": 60,
   "metadata": {},
   "outputs": [
    {
     "name": "stdout",
     "output_type": "stream",
     "text": [
      "Updated contract greeting: HELLOOOO!!!!\n"
     ]
    }
   ],
   "source": [
    "# call another function to update the greeting\n",
    "tx_hash = contract.functions.setGreeting('HELLOOOO!!!!').transact()\n",
    "\n",
    "# wait for transaction to be mined...\n",
    "web3.eth.waitForTransactionReceipt(tx_hash)\n",
    "\n",
    "# display the new greeting value\n",
    "print('Updated contract greeting: {}'.format(\n",
    "    contract.functions.greet().call()\n",
    "))"
   ]
  },
  {
   "cell_type": "markdown",
   "metadata": {},
   "source": [
    "# Let's connect to already deployed contract"
   ]
  },
  {
   "cell_type": "markdown",
   "metadata": {},
   "source": [
    "### For connection to already deployed contract we have to know ABI which could be found in Compilation Details and contract address which is shown in ganache transactions tab"
   ]
  },
  {
   "cell_type": "code",
   "execution_count": 61,
   "metadata": {},
   "outputs": [],
   "source": [
    "address = web3.toChecksumAddress('0x3295010e6F1A2fdBCF53bcD09B9BF1c94A925D58')"
   ]
  },
  {
   "cell_type": "code",
   "execution_count": 62,
   "metadata": {},
   "outputs": [],
   "source": [
    "abi = json.loads('[{\"constant\":false,\"inputs\":[{\"name\":\"_greeting\",\"type\":\"string\"}],\"name\":\"setGreeting\",\"outputs\":[],\"payable\":false,\"stateMutability\":\"nonpayable\",\"type\":\"function\"},{\"constant\":true,\"inputs\":[],\"name\":\"greet\",\"outputs\":[{\"name\":\"\",\"type\":\"string\"}],\"payable\":false,\"stateMutability\":\"view\",\"type\":\"function\"},{\"constant\":true,\"inputs\":[],\"name\":\"greeting\",\"outputs\":[{\"name\":\"\",\"type\":\"string\"}],\"payable\":false,\"stateMutability\":\"view\",\"type\":\"function\"},{\"inputs\":[],\"payable\":false,\"stateMutability\":\"nonpayable\",\"type\":\"constructor\"}]')"
   ]
  },
  {
   "cell_type": "code",
   "execution_count": 63,
   "metadata": {},
   "outputs": [],
   "source": [
    "# connect to existing contract using address and abi\n",
    "contract = web3.eth.contract(address=address, abi=abi)"
   ]
  },
  {
   "cell_type": "code",
   "execution_count": 64,
   "metadata": {},
   "outputs": [
    {
     "data": {
      "text/plain": [
       "'HELLOOOO!!!!'"
      ]
     },
     "execution_count": 64,
     "metadata": {},
     "output_type": "execute_result"
    }
   ],
   "source": [
    "# call greet function there\n",
    "contract.functions.greet().call()"
   ]
  },
  {
   "cell_type": "code",
   "execution_count": 65,
   "metadata": {},
   "outputs": [
    {
     "name": "stdout",
     "output_type": "stream",
     "text": [
      "Updated contract greeting: HEELLLLOOOOOO!!!\n"
     ]
    }
   ],
   "source": [
    "# set a new greeting\n",
    "tx_hash = contract.functions.setGreeting('HEELLLLOOOOOO!!!').transact()\n",
    "# wait for transaction to be mined\n",
    "web3.eth.waitForTransactionReceipt(tx_hash)\n",
    "# display the new greeting value\n",
    "print('Updated contract greeting: {}'.format(\n",
    "    contract.functions.greet().call()\n",
    "))"
   ]
  },
  {
   "cell_type": "markdown",
   "metadata": {},
   "source": [
    "# Let's try contract from truffle compiler"
   ]
  },
  {
   "cell_type": "code",
   "execution_count": 66,
   "metadata": {},
   "outputs": [],
   "source": [
    "# set the default account which will deploy contracts\n",
    "web3.eth.defaultAccount = web3.eth.accounts[0]"
   ]
  },
  {
   "cell_type": "code",
   "execution_count": 67,
   "metadata": {},
   "outputs": [],
   "source": [
    "PATH_TRUFFLE_WK = 'truffle_test'\n",
    "truffleFile = json.load(open(PATH_TRUFFLE_WK + '/build/contracts/Adoption.json'))\n",
    "\n",
    "abi = truffleFile['abi']\n",
    "bytecode = truffleFile['bytecode']"
   ]
  },
  {
   "cell_type": "code",
   "execution_count": 68,
   "metadata": {},
   "outputs": [],
   "source": [
    "# create instance of contract\n",
    "adoption = web3.eth.contract(abi=abi, bytecode=bytecode)"
   ]
  },
  {
   "cell_type": "code",
   "execution_count": 69,
   "metadata": {},
   "outputs": [],
   "source": [
    "# deploy it in your net\n",
    "tx_hash = adoption.constructor().transact()\n",
    "# wait for deployment completion\n",
    "tx_receipt = web3.eth.waitForTransactionReceipt(tx_hash)"
   ]
  },
  {
   "cell_type": "code",
   "execution_count": 70,
   "metadata": {},
   "outputs": [
    {
     "name": "stdout",
     "output_type": "stream",
     "text": [
      "0x69d5bdECA41Cd0615eEe77c766d833a604933671\n"
     ]
    }
   ],
   "source": [
    "# have a look at returned contract address\n",
    "print(tx_receipt.contractAddress)"
   ]
  },
  {
   "cell_type": "code",
   "execution_count": 71,
   "metadata": {},
   "outputs": [],
   "source": [
    "# use this address to connect to contract\n",
    "contract = web3.eth.contract(\n",
    "    address=tx_receipt.contractAddress,\n",
    "    abi=abi,\n",
    ")"
   ]
  },
  {
   "cell_type": "code",
   "execution_count": 80,
   "metadata": {},
   "outputs": [
    {
     "data": {
      "text/plain": [
       "0"
      ]
     },
     "execution_count": 80,
     "metadata": {},
     "output_type": "execute_result"
    }
   ],
   "source": [
    "# first call, withour broadcast\n",
    "contract.functions.adopt(0).call()"
   ]
  },
  {
   "cell_type": "code",
   "execution_count": 81,
   "metadata": {},
   "outputs": [
    {
     "data": {
      "text/plain": [
       "HexBytes('0xdda319f93927ec4f6bfa700b9a6c817d9f8714f888c9cf819ad1c27a851e0218')"
      ]
     },
     "execution_count": 81,
     "metadata": {},
     "output_type": "execute_result"
    }
   ],
   "source": [
    "# then transact, with broadcast\n",
    "contract.functions.adopt(0).transact()"
   ]
  },
  {
   "cell_type": "code",
   "execution_count": 82,
   "metadata": {},
   "outputs": [
    {
     "data": {
      "text/plain": [
       "['0xAdDFD77C9514c57090f04C5961DB370F95AeA86d',\n",
       " '0x0000000000000000000000000000000000000000',\n",
       " '0x0000000000000000000000000000000000000000',\n",
       " '0x0000000000000000000000000000000000000000',\n",
       " '0x0000000000000000000000000000000000000000',\n",
       " '0x0000000000000000000000000000000000000000',\n",
       " '0x0000000000000000000000000000000000000000',\n",
       " '0x0000000000000000000000000000000000000000',\n",
       " '0x0000000000000000000000000000000000000000',\n",
       " '0x0000000000000000000000000000000000000000',\n",
       " '0x0000000000000000000000000000000000000000',\n",
       " '0x0000000000000000000000000000000000000000',\n",
       " '0x0000000000000000000000000000000000000000',\n",
       " '0x0000000000000000000000000000000000000000',\n",
       " '0x0000000000000000000000000000000000000000',\n",
       " '0x0000000000000000000000000000000000000000']"
      ]
     },
     "execution_count": 82,
     "metadata": {},
     "output_type": "execute_result"
    }
   ],
   "source": [
    "contract.functions.getAdopters().call()"
   ]
  },
  {
   "cell_type": "code",
   "execution_count": null,
   "metadata": {},
   "outputs": [],
   "source": []
  },
  {
   "cell_type": "code",
   "execution_count": null,
   "metadata": {},
   "outputs": [],
   "source": []
  }
 ],
 "metadata": {
  "kernelspec": {
   "display_name": "Python 3",
   "language": "python",
   "name": "python3"
  },
  "language_info": {
   "codemirror_mode": {
    "name": "ipython",
    "version": 3
   },
   "file_extension": ".py",
   "mimetype": "text/x-python",
   "name": "python",
   "nbconvert_exporter": "python",
   "pygments_lexer": "ipython3",
   "version": "3.7.9"
  }
 },
 "nbformat": 4,
 "nbformat_minor": 4
}
